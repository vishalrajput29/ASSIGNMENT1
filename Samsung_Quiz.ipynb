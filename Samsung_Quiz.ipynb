{
  "nbformat": 4,
  "nbformat_minor": 0,
  "metadata": {
    "colab": {
      "provenance": []
    },
    "kernelspec": {
      "name": "python3",
      "display_name": "Python 3"
    },
    "language_info": {
      "name": "python"
    }
  },
  "cells": [
    {
      "cell_type": "markdown",
      "source": [
        "i am unable to load my boston price prediction data set so instead of it i have predict it on another data set\n"
      ],
      "metadata": {
        "id": "65ysKPp1M9dF"
      }
    },
    {
      "cell_type": "code",
      "source": [
        "# 1. Create examples of zero vector, one vector, square matrix, diagonal matrix, identity matrix, and symmetricmatrix one by one, and represent vectors and matrices with NumPy.\n",
        "import numpy as np\n",
        "\n",
        "# Zero vector\n",
        "zero_vector = np.zeros(5)\n",
        "print(\"Zero vector:\", zero_vector)\n",
        "\n",
        "# One vector (all elements are 1)\n",
        "one_vector = np.ones(3)\n",
        "print(\"One vector:\", one_vector)\n",
        "\n",
        "# Square matrix\n",
        "square_matrix = np.array([[1, 2, 3],\n",
        "                         [4, 5, 6],\n",
        "                         [7, 8, 9]])\n",
        "print(\"Square matrix:\")\n",
        "print(square_matrix)\n",
        "\n",
        "# Diagonal matrix\n",
        "diagonal_matrix = np.diag([1, 2, 3])\n",
        "print(\"Diagonal matrix:\")\n",
        "print(diagonal_matrix)\n",
        "\n",
        "# Identity matrix\n",
        "identity_matrix = np.identity(3)\n",
        "print(\"Identity matrix:\")\n",
        "print(identity_matrix)\n",
        "\n",
        "# Symmetric matrix\n",
        "symmetric_matrix = np.array([[1, 2, 3],\n",
        "                             [2, 4, 5],\n",
        "                             [3, 5, 6]])\n",
        "print(\"Symmetric matrix:\")\n",
        "print(symmetric_matrix)"
      ],
      "metadata": {
        "colab": {
          "base_uri": "https://localhost:8080/"
        },
        "id": "B5ozCGtJiRZ3",
        "outputId": "3cca24ea-9093-487b-e0bf-2eaacecd5366"
      },
      "execution_count": null,
      "outputs": [
        {
          "output_type": "stream",
          "name": "stdout",
          "text": [
            "Zero vector: [0. 0. 0. 0. 0.]\n",
            "One vector: [1. 1. 1.]\n",
            "Square matrix:\n",
            "[[1 2 3]\n",
            " [4 5 6]\n",
            " [7 8 9]]\n",
            "Diagonal matrix:\n",
            "[[1 0 0]\n",
            " [0 2 0]\n",
            " [0 0 3]]\n",
            "Identity matrix:\n",
            "[[1. 0. 0.]\n",
            " [0. 1. 0.]\n",
            " [0. 0. 1.]]\n",
            "Symmetric matrix:\n",
            "[[1 2 3]\n",
            " [2 4 5]\n",
            " [3 5 6]]\n"
          ]
        }
      ]
    },
    {
      "cell_type": "code",
      "source": [
        "#Q-2\n",
        "import numpy as np\n",
        "\n",
        "# Stock prices\n",
        "p = np.array([1000000, 800000, 500000])\n",
        "\n",
        "# Quantity of shares\n",
        "n = np.array([3, 4, 5])\n",
        "\n",
        "# Calculate the amount required to purchase stocks\n",
        "amount = np.dot(p, n)\n",
        "\n",
        "print(\"The total amount required to purchase the stocks is:\", amount, \"won\")"
      ],
      "metadata": {
        "colab": {
          "base_uri": "https://localhost:8080/"
        },
        "id": "bQw4cuoliSTU",
        "outputId": "ca02a50c-fdf9-4f83-aa45-bfeedf69633d"
      },
      "execution_count": null,
      "outputs": [
        {
          "output_type": "stream",
          "name": "stdout",
          "text": [
            "The total amount required to purchase the stocks is: 8700000 won\n"
          ]
        }
      ]
    },
    {
      "cell_type": "code",
      "source": [
        "# Q-3\n",
        "from sklearn.datasets import load_digits\n",
        "X = load_digits().data\n",
        "\n",
        "# Extract the first and tenth images\n",
        "image1 = X[0]\n",
        "image10 = X[9]\n",
        "\n",
        "# Calculate the dot product\n",
        "similarity = np.dot(image1, image10)\n",
        "\n",
        "print(\"Similarity between the first and tenth image:\", similarity)"
      ],
      "metadata": {
        "colab": {
          "base_uri": "https://localhost:8080/"
        },
        "id": "Nvux1r05iSVn",
        "outputId": "4dbfcf73-5d47-4950-83b6-070880a42259"
      },
      "execution_count": null,
      "outputs": [
        {
          "output_type": "stream",
          "name": "stdout",
          "text": [
            "Similarity between the first and tenth image: 2807.0\n"
          ]
        }
      ]
    },
    {
      "cell_type": "code",
      "source": [
        "X"
      ],
      "metadata": {
        "colab": {
          "base_uri": "https://localhost:8080/"
        },
        "id": "1b4a9YE_ltbX",
        "outputId": "7d4e63e1-dd63-42a5-c9ee-173db0b652de"
      },
      "execution_count": null,
      "outputs": [
        {
          "output_type": "execute_result",
          "data": {
            "text/plain": [
              "array([[ 0.,  0.,  5., ...,  0.,  0.,  0.],\n",
              "       [ 0.,  0.,  0., ..., 10.,  0.,  0.],\n",
              "       [ 0.,  0.,  0., ..., 16.,  9.,  0.],\n",
              "       ...,\n",
              "       [ 0.,  0.,  1., ...,  6.,  0.,  0.],\n",
              "       [ 0.,  0.,  2., ..., 12.,  0.,  0.],\n",
              "       [ 0.,  0., 10., ..., 12.,  1.,  0.]])"
            ]
          },
          "metadata": {},
          "execution_count": 4
        }
      ]
    },
    {
      "cell_type": "code",
      "source": [
        "image1"
      ],
      "metadata": {
        "colab": {
          "base_uri": "https://localhost:8080/"
        },
        "id": "JcAKEyw9ltY9",
        "outputId": "3a1e9817-fe25-42d4-bdaa-e8b52e20053c"
      },
      "execution_count": null,
      "outputs": [
        {
          "output_type": "execute_result",
          "data": {
            "text/plain": [
              "array([ 0.,  0.,  5., 13.,  9.,  1.,  0.,  0.,  0.,  0., 13., 15., 10.,\n",
              "       15.,  5.,  0.,  0.,  3., 15.,  2.,  0., 11.,  8.,  0.,  0.,  4.,\n",
              "       12.,  0.,  0.,  8.,  8.,  0.,  0.,  5.,  8.,  0.,  0.,  9.,  8.,\n",
              "        0.,  0.,  4., 11.,  0.,  1., 12.,  7.,  0.,  0.,  2., 14.,  5.,\n",
              "       10., 12.,  0.,  0.,  0.,  0.,  6., 13., 10.,  0.,  0.,  0.])"
            ]
          },
          "metadata": {},
          "execution_count": 5
        }
      ]
    },
    {
      "cell_type": "code",
      "source": [
        "image10"
      ],
      "metadata": {
        "colab": {
          "base_uri": "https://localhost:8080/"
        },
        "id": "Md7SQnslltKy",
        "outputId": "3631e4d7-cc0d-4b89-fd0d-4e37194ce02a"
      },
      "execution_count": null,
      "outputs": [
        {
          "output_type": "execute_result",
          "data": {
            "text/plain": [
              "array([ 0.,  0., 11., 12.,  0.,  0.,  0.,  0.,  0.,  2., 16., 16., 16.,\n",
              "       13.,  0.,  0.,  0.,  3., 16., 12., 10., 14.,  0.,  0.,  0.,  1.,\n",
              "       16.,  1., 12., 15.,  0.,  0.,  0.,  0., 13., 16.,  9., 15.,  2.,\n",
              "        0.,  0.,  0.,  0.,  3.,  0.,  9., 11.,  0.,  0.,  0.,  0.,  0.,\n",
              "        9., 15.,  4.,  0.,  0.,  0.,  9., 12., 13.,  3.,  0.,  0.])"
            ]
          },
          "metadata": {},
          "execution_count": 6
        }
      ]
    },
    {
      "cell_type": "code",
      "source": [],
      "metadata": {
        "id": "6afGmmBWKPyl"
      },
      "execution_count": null,
      "outputs": []
    },
    {
      "cell_type": "markdown",
      "source": [
        "HOUSE PRICE PREDICTION\n"
      ],
      "metadata": {
        "id": "fLX2FvzgLr5z"
      }
    },
    {
      "cell_type": "code",
      "source": [
        "import pandas as pd\n",
        "import numpy as np\n",
        "import matplotlib.pyplot as plt\n",
        "import seaborn as sns\n",
        "import warnings\n",
        "warnings.filterwarnings('ignore')\n"
      ],
      "metadata": {
        "id": "vThx6iOmKPsz"
      },
      "execution_count": 1,
      "outputs": []
    },
    {
      "cell_type": "code",
      "source": [
        "import pandas as pd\n",
        "\n",
        "# Load the dataset\n",
        "file_path = 'sample_submission.csv'\n",
        "df = pd.read_csv(file_path)\n",
        "\n",
        "# Inspect the DataFrame\n",
        "print(df.head())\n",
        "print(df.info())"
      ],
      "metadata": {
        "colab": {
          "base_uri": "https://localhost:8080/"
        },
        "id": "f8j39UEnKPp2",
        "outputId": "8785c59b-2f4a-43c0-fcd6-d3ceccdd83d0"
      },
      "execution_count": 5,
      "outputs": [
        {
          "output_type": "stream",
          "name": "stdout",
          "text": [
            "     Id      SalePrice\n",
            "0  1461  169277.052498\n",
            "1  1462  187758.393989\n",
            "2  1463  183583.683570\n",
            "3  1464  179317.477511\n",
            "4  1465  150730.079977\n",
            "<class 'pandas.core.frame.DataFrame'>\n",
            "RangeIndex: 1459 entries, 0 to 1458\n",
            "Data columns (total 2 columns):\n",
            " #   Column     Non-Null Count  Dtype  \n",
            "---  ------     --------------  -----  \n",
            " 0   Id         1459 non-null   int64  \n",
            " 1   SalePrice  1459 non-null   float64\n",
            "dtypes: float64(1), int64(1)\n",
            "memory usage: 22.9 KB\n",
            "None\n"
          ]
        }
      ]
    },
    {
      "cell_type": "code",
      "source": [
        "# Identify categorical columns\n",
        "categorical_columns = df.select_dtypes(include=['object']).columns\n",
        "print(\"Categorical columns:\", categorical_columns)"
      ],
      "metadata": {
        "colab": {
          "base_uri": "https://localhost:8080/"
        },
        "id": "mZbESl-wKPnK",
        "outputId": "ee2ad03c-470b-45cb-da19-9e1972fd1df5"
      },
      "execution_count": 6,
      "outputs": [
        {
          "output_type": "stream",
          "name": "stdout",
          "text": [
            "Categorical columns: Index([], dtype='object')\n"
          ]
        }
      ]
    },
    {
      "cell_type": "code",
      "source": [
        "numeric_columns = df.select_dtypes(include=['int64', 'float64']).columns"
      ],
      "metadata": {
        "id": "0WtUIHTUKPkV"
      },
      "execution_count": 7,
      "outputs": []
    },
    {
      "cell_type": "code",
      "source": [
        "# Transform categorical columns using One-Hot Encoding\n",
        "df_encoded = pd.get_dummies(df, columns=categorical_columns)\n",
        "\n",
        "# Verify the transformation\n",
        "print(df_encoded.head())\n",
        "print(df_encoded.info())"
      ],
      "metadata": {
        "colab": {
          "base_uri": "https://localhost:8080/"
        },
        "id": "IHr6oI0UKPhd",
        "outputId": "07406af8-4912-45e3-f7b7-e4986cdf1550"
      },
      "execution_count": 8,
      "outputs": [
        {
          "output_type": "stream",
          "name": "stdout",
          "text": [
            "     Id      SalePrice\n",
            "0  1461  169277.052498\n",
            "1  1462  187758.393989\n",
            "2  1463  183583.683570\n",
            "3  1464  179317.477511\n",
            "4  1465  150730.079977\n",
            "<class 'pandas.core.frame.DataFrame'>\n",
            "RangeIndex: 1459 entries, 0 to 1458\n",
            "Data columns (total 2 columns):\n",
            " #   Column     Non-Null Count  Dtype  \n",
            "---  ------     --------------  -----  \n",
            " 0   Id         1459 non-null   int64  \n",
            " 1   SalePrice  1459 non-null   float64\n",
            "dtypes: float64(1), int64(1)\n",
            "memory usage: 22.9 KB\n",
            "None\n"
          ]
        }
      ]
    },
    {
      "cell_type": "code",
      "source": [
        "import pandas as pd\n",
        "\n",
        "# Load the dataset\n",
        "file_path = 'sample_submission.csv'\n",
        "df = pd.read_csv(file_path)\n",
        "\n",
        "# Inspect the DataFrame\n",
        "print(\"DataFrame Head:\\n\", df.head())\n",
        "print(\"DataFrame Info:\\n\", df.info())\n",
        "\n",
        "# Identify categorical columns\n",
        "categorical_columns = df.select_dtypes(include=['object']).columns\n",
        "print(\"Categorical columns:\", categorical_columns)\n",
        "\n",
        "# Strip any whitespace from column names (if any)\n",
        "df.columns = df.columns.str.strip()\n",
        "\n",
        "# Transform categorical columns using One-Hot Encoding\n",
        "df_encoded = pd.get_dummies(df, columns=categorical_columns)\n",
        "\n",
        "# Verify the transformation\n",
        "print(\"Transformed DataFrame Head:\\n\", df_encoded.head())\n",
        "print(\"Transformed DataFrame Info:\\n\", df_encoded.info())"
      ],
      "metadata": {
        "colab": {
          "base_uri": "https://localhost:8080/"
        },
        "id": "zXSMUWOTKPc4",
        "outputId": "d70398f5-669a-4351-d0bb-f476807419aa"
      },
      "execution_count": 10,
      "outputs": [
        {
          "output_type": "stream",
          "name": "stdout",
          "text": [
            "DataFrame Head:\n",
            "      Id      SalePrice\n",
            "0  1461  169277.052498\n",
            "1  1462  187758.393989\n",
            "2  1463  183583.683570\n",
            "3  1464  179317.477511\n",
            "4  1465  150730.079977\n",
            "<class 'pandas.core.frame.DataFrame'>\n",
            "RangeIndex: 1459 entries, 0 to 1458\n",
            "Data columns (total 2 columns):\n",
            " #   Column     Non-Null Count  Dtype  \n",
            "---  ------     --------------  -----  \n",
            " 0   Id         1459 non-null   int64  \n",
            " 1   SalePrice  1459 non-null   float64\n",
            "dtypes: float64(1), int64(1)\n",
            "memory usage: 22.9 KB\n",
            "DataFrame Info:\n",
            " None\n",
            "Categorical columns: Index([], dtype='object')\n",
            "Transformed DataFrame Head:\n",
            "      Id      SalePrice\n",
            "0  1461  169277.052498\n",
            "1  1462  187758.393989\n",
            "2  1463  183583.683570\n",
            "3  1464  179317.477511\n",
            "4  1465  150730.079977\n",
            "<class 'pandas.core.frame.DataFrame'>\n",
            "RangeIndex: 1459 entries, 0 to 1458\n",
            "Data columns (total 2 columns):\n",
            " #   Column     Non-Null Count  Dtype  \n",
            "---  ------     --------------  -----  \n",
            " 0   Id         1459 non-null   int64  \n",
            " 1   SalePrice  1459 non-null   float64\n",
            "dtypes: float64(1), int64(1)\n",
            "memory usage: 22.9 KB\n",
            "Transformed DataFrame Info:\n",
            " None\n"
          ]
        }
      ]
    },
    {
      "cell_type": "code",
      "source": [
        "X = df_encoded.drop(\"SalePrice\",axis =1)\n",
        "y = df_encoded[\"SalePrice\"]"
      ],
      "metadata": {
        "id": "MvA1m9bYMmlc"
      },
      "execution_count": 13,
      "outputs": []
    },
    {
      "cell_type": "code",
      "source": [
        "from sklearn.model_selection import train_test_split\n",
        "X_train, X_test, y_train, y_test = train_test_split(X, y, test_size=0.20, random_state=1)"
      ],
      "metadata": {
        "id": "YYfeys6sMtcF"
      },
      "execution_count": 14,
      "outputs": []
    },
    {
      "cell_type": "code",
      "source": [
        "from sklearn.svm import SVR\n",
        "svr = SVR(kernel = \"linear\")\n",
        "svr.fit(X_train, y_train)\n",
        "y_pred = svr.predict(X_test)"
      ],
      "metadata": {
        "id": "LxCA7ZvPMxLf"
      },
      "execution_count": 15,
      "outputs": []
    },
    {
      "cell_type": "code",
      "source": [
        "y_pred"
      ],
      "metadata": {
        "colab": {
          "base_uri": "https://localhost:8080/"
        },
        "id": "OXo9Yn1nMxOq",
        "outputId": "a14697e6-5686-4c71-b364-d3d4f01e1fc9"
      },
      "execution_count": 16,
      "outputs": [
        {
          "output_type": "execute_result",
          "data": {
            "text/plain": [
              "array([180788.40810477, 176638.55063171, 181475.19494834, 180950.73954051,\n",
              "       177708.2731699 , 176330.53713822, 180871.6549949 , 180313.90083101,\n",
              "       176834.18082352, 180667.70011409, 180005.88733753, 179523.05537476,\n",
              "       180151.56939527, 176759.25862241, 181279.56475653, 178777.9957081 ,\n",
              "       181146.36973233, 180255.62800793, 177837.3058496 , 178682.26178444,\n",
              "       180472.06992226, 177354.47388684, 182128.68303587, 181225.45427797,\n",
              "       179431.48379564, 181283.72710105, 179568.84116434, 176509.51795202,\n",
              "       180426.2841327 , 181187.99317741, 178986.11293342, 179697.87384405,\n",
              "       177916.39039522, 179127.63264664, 178411.70939151, 182087.05959084,\n",
              "       177025.64867081, 181287.88944557, 177300.36340826, 180596.94025745,\n",
              "       181387.78571369, 180476.23226678, 176555.30374158, 177208.79182912,\n",
              "       177441.88312148, 180238.97862989, 179997.56264853, 176397.13465033,\n",
              "       177766.54599299, 181912.24112155, 178586.52786078, 180613.58963548,\n",
              "       180026.69906006, 180892.46671743, 180422.1217882 , 177275.38934121,\n",
              "       181079.77222023, 179643.76336544, 176376.3229278 , 180205.67987385,\n",
              "       176596.92718665, 177421.07139894, 180122.43298372, 178178.61809915,\n",
              "       180159.89408427, 180363.8489651 , 178403.3847025 , 180280.60207496,\n",
              "       180214.00456285, 178107.85824253, 177595.88986822, 178836.26853118,\n",
              "       179647.92570997, 181383.62336921, 176671.84938776, 179135.95733566,\n",
              "       179194.23015875, 182153.65710292, 180384.66068762, 179289.96408241,\n",
              "       179344.07456099, 176255.6149371 , 180879.97968391, 177237.92824065,\n",
              "       178732.20991852, 178569.87848275, 179614.62695392, 181429.40915877,\n",
              "       182099.54662434, 177375.28560937, 176621.90125368, 176189.017425  ,\n",
              "       177287.87637474, 181258.75303402, 179860.20527979, 180355.52427609,\n",
              "       180580.29087945, 179751.98432263, 179918.4781029 , 178657.28771739,\n",
              "       177429.39608795, 176380.4852723 , 177737.40958145, 180338.87489805,\n",
              "       181824.83188691, 177104.73321646, 181063.1228422 , 176609.41422016,\n",
              "       180775.92107125, 180913.27843996, 177158.84369504, 178981.95058892,\n",
              "       179006.92465594, 178415.87173601, 179535.54240829, 180463.74523325,\n",
              "       181970.51394463, 178857.08025371, 176879.96661308, 176426.27106187,\n",
              "       177433.55843248, 177874.76695017, 177512.64297809, 177250.4152742 ,\n",
              "       181100.58394276, 179373.21097253, 179502.24365223, 181192.15552191,\n",
              "       178969.46355539, 176626.06359819, 179618.78929842, 179443.97082915,\n",
              "       179822.74417924, 176301.40072668, 180634.40135803, 182070.41021281,\n",
              "       179410.67207309, 182053.76083478, 179369.04862802, 179843.55590176,\n",
              "       178728.04757401, 178324.30015688, 180089.13422766, 179077.68451255,\n",
              "       176542.81670806, 181471.03260385, 178249.37795576, 179169.25609171,\n",
              "       176913.26536914, 178607.33958333, 180971.55126306, 176871.64192407,\n",
              "       179144.28202467, 177933.03977325, 178370.08594643, 178869.56728723,\n",
              "       178832.10618668, 180755.10934872, 181749.90968578, 180301.41379751,\n",
              "       179281.6393934 , 181416.92212526, 180601.10260197, 178936.16479934,\n",
              "       176567.7907751 , 179385.69800606, 179423.1591066 , 181304.5388236 ,\n",
              "       177845.63053862, 180938.25250701, 177878.92929467, 180243.14097439,\n",
              "       179102.6585796 , 176447.08278441, 178898.70369878, 181125.5580098 ,\n",
              "       179897.66638037, 179418.9967621 , 181512.65604892, 176409.62168384,\n",
              "       176767.58331142, 178553.22910472, 182191.1182035 , 178307.65077885,\n",
              "       182082.89724631, 178016.28666338, 176984.02522575, 179622.95164292,\n",
              "       180934.09016248, 178340.94953492, 178453.33283659, 176838.34316803,\n",
              "       176967.37584772, 178644.80068388, 177138.03197251, 178166.13106563,\n",
              "       176655.20000974, 181953.8645666 , 179119.30795763, 178619.82661685,\n",
              "       178840.43087568, 180746.78465971, 181088.09690925, 176488.70622948,\n",
              "       181092.25925375, 177254.57761868, 179298.28877141, 178790.48274162,\n",
              "       178794.64508613, 182207.76758153, 178020.44900789, 180717.64824816,\n",
              "       176538.65436355, 181937.21518857, 179027.73637848, 182224.41695953,\n",
              "       180551.1544679 , 182220.25461503, 180859.16796138, 180076.64719414,\n",
              "       179314.93814944, 180730.13528167, 177292.03871924, 179939.28982542,\n",
              "       180805.0574828 , 176929.91474717, 177391.9349874 , 180642.72604703,\n",
              "       179735.33494461, 180888.30437293, 181296.21413457, 178490.79393714,\n",
              "       176676.01173227, 180809.2198273 , 179414.8344176 , 182120.35834686,\n",
              "       177013.1616373 , 180359.68662059, 176388.80996132, 176950.72646971,\n",
              "       180322.22552004, 177770.70833751, 181945.53987759, 177462.694844  ,\n",
              "       181454.38322582, 181017.33705264, 179240.01594832, 181250.42834499,\n",
              "       180484.55695579, 179190.06781424, 177783.19537102, 176730.12221085,\n",
              "       180684.3494921 , 177000.67460378, 179826.90652374, 181903.91643252,\n",
              "       182141.17006942, 176513.68029651, 177570.91580119, 178361.76125743,\n",
              "       181812.34485339, 181583.41590553, 180380.49834313, 178594.85254981,\n",
              "       182161.98179194, 181025.66174165, 179881.01700234, 178449.17049206,\n",
              "       181437.73384779, 177471.01953303, 180767.59638222, 176226.47852555,\n",
              "       177625.02627977, 176480.38154046, 177853.95522764, 177941.36446228,\n",
              "       181217.12958895, 180405.47241016, 179631.27633195, 176854.99254606,\n",
              "       176372.16058329, 178561.55379375, 176584.44015311, 179930.9651364 ,\n",
              "       181516.81839342, 178723.88522952, 178203.59216618, 177341.98685332,\n",
              "       182003.81270068, 176721.79752184, 180929.92781799, 181371.13633569])"
            ]
          },
          "metadata": {},
          "execution_count": 16
        }
      ]
    },
    {
      "cell_type": "code",
      "source": [],
      "metadata": {
        "id": "_sxNaP-DMxRq"
      },
      "execution_count": null,
      "outputs": []
    },
    {
      "cell_type": "code",
      "source": [
        "submission = pd.DataFrame({\"Id\":range(len(y_pred)),\n",
        "                         \"SalePrice\": y_pred})"
      ],
      "metadata": {
        "id": "XVKFdie7MxVP"
      },
      "execution_count": 17,
      "outputs": []
    },
    {
      "cell_type": "code",
      "source": [
        "submission"
      ],
      "metadata": {
        "colab": {
          "base_uri": "https://localhost:8080/",
          "height": 424
        },
        "id": "lFnb2KRVMxXw",
        "outputId": "aba49624-571b-42c5-94fa-3a20f483930b"
      },
      "execution_count": 18,
      "outputs": [
        {
          "output_type": "execute_result",
          "data": {
            "text/plain": [
              "      Id      SalePrice\n",
              "0      0  180788.408105\n",
              "1      1  176638.550632\n",
              "2      2  181475.194948\n",
              "3      3  180950.739541\n",
              "4      4  177708.273170\n",
              "..   ...            ...\n",
              "287  287  177341.986853\n",
              "288  288  182003.812701\n",
              "289  289  176721.797522\n",
              "290  290  180929.927818\n",
              "291  291  181371.136336\n",
              "\n",
              "[292 rows x 2 columns]"
            ],
            "text/html": [
              "\n",
              "  <div id=\"df-1cb16e38-9ac5-4701-8e61-68ee31c94b98\" class=\"colab-df-container\">\n",
              "    <div>\n",
              "<style scoped>\n",
              "    .dataframe tbody tr th:only-of-type {\n",
              "        vertical-align: middle;\n",
              "    }\n",
              "\n",
              "    .dataframe tbody tr th {\n",
              "        vertical-align: top;\n",
              "    }\n",
              "\n",
              "    .dataframe thead th {\n",
              "        text-align: right;\n",
              "    }\n",
              "</style>\n",
              "<table border=\"1\" class=\"dataframe\">\n",
              "  <thead>\n",
              "    <tr style=\"text-align: right;\">\n",
              "      <th></th>\n",
              "      <th>Id</th>\n",
              "      <th>SalePrice</th>\n",
              "    </tr>\n",
              "  </thead>\n",
              "  <tbody>\n",
              "    <tr>\n",
              "      <th>0</th>\n",
              "      <td>0</td>\n",
              "      <td>180788.408105</td>\n",
              "    </tr>\n",
              "    <tr>\n",
              "      <th>1</th>\n",
              "      <td>1</td>\n",
              "      <td>176638.550632</td>\n",
              "    </tr>\n",
              "    <tr>\n",
              "      <th>2</th>\n",
              "      <td>2</td>\n",
              "      <td>181475.194948</td>\n",
              "    </tr>\n",
              "    <tr>\n",
              "      <th>3</th>\n",
              "      <td>3</td>\n",
              "      <td>180950.739541</td>\n",
              "    </tr>\n",
              "    <tr>\n",
              "      <th>4</th>\n",
              "      <td>4</td>\n",
              "      <td>177708.273170</td>\n",
              "    </tr>\n",
              "    <tr>\n",
              "      <th>...</th>\n",
              "      <td>...</td>\n",
              "      <td>...</td>\n",
              "    </tr>\n",
              "    <tr>\n",
              "      <th>287</th>\n",
              "      <td>287</td>\n",
              "      <td>177341.986853</td>\n",
              "    </tr>\n",
              "    <tr>\n",
              "      <th>288</th>\n",
              "      <td>288</td>\n",
              "      <td>182003.812701</td>\n",
              "    </tr>\n",
              "    <tr>\n",
              "      <th>289</th>\n",
              "      <td>289</td>\n",
              "      <td>176721.797522</td>\n",
              "    </tr>\n",
              "    <tr>\n",
              "      <th>290</th>\n",
              "      <td>290</td>\n",
              "      <td>180929.927818</td>\n",
              "    </tr>\n",
              "    <tr>\n",
              "      <th>291</th>\n",
              "      <td>291</td>\n",
              "      <td>181371.136336</td>\n",
              "    </tr>\n",
              "  </tbody>\n",
              "</table>\n",
              "<p>292 rows × 2 columns</p>\n",
              "</div>\n",
              "    <div class=\"colab-df-buttons\">\n",
              "\n",
              "  <div class=\"colab-df-container\">\n",
              "    <button class=\"colab-df-convert\" onclick=\"convertToInteractive('df-1cb16e38-9ac5-4701-8e61-68ee31c94b98')\"\n",
              "            title=\"Convert this dataframe to an interactive table.\"\n",
              "            style=\"display:none;\">\n",
              "\n",
              "  <svg xmlns=\"http://www.w3.org/2000/svg\" height=\"24px\" viewBox=\"0 -960 960 960\">\n",
              "    <path d=\"M120-120v-720h720v720H120Zm60-500h600v-160H180v160Zm220 220h160v-160H400v160Zm0 220h160v-160H400v160ZM180-400h160v-160H180v160Zm440 0h160v-160H620v160ZM180-180h160v-160H180v160Zm440 0h160v-160H620v160Z\"/>\n",
              "  </svg>\n",
              "    </button>\n",
              "\n",
              "  <style>\n",
              "    .colab-df-container {\n",
              "      display:flex;\n",
              "      gap: 12px;\n",
              "    }\n",
              "\n",
              "    .colab-df-convert {\n",
              "      background-color: #E8F0FE;\n",
              "      border: none;\n",
              "      border-radius: 50%;\n",
              "      cursor: pointer;\n",
              "      display: none;\n",
              "      fill: #1967D2;\n",
              "      height: 32px;\n",
              "      padding: 0 0 0 0;\n",
              "      width: 32px;\n",
              "    }\n",
              "\n",
              "    .colab-df-convert:hover {\n",
              "      background-color: #E2EBFA;\n",
              "      box-shadow: 0px 1px 2px rgba(60, 64, 67, 0.3), 0px 1px 3px 1px rgba(60, 64, 67, 0.15);\n",
              "      fill: #174EA6;\n",
              "    }\n",
              "\n",
              "    .colab-df-buttons div {\n",
              "      margin-bottom: 4px;\n",
              "    }\n",
              "\n",
              "    [theme=dark] .colab-df-convert {\n",
              "      background-color: #3B4455;\n",
              "      fill: #D2E3FC;\n",
              "    }\n",
              "\n",
              "    [theme=dark] .colab-df-convert:hover {\n",
              "      background-color: #434B5C;\n",
              "      box-shadow: 0px 1px 3px 1px rgba(0, 0, 0, 0.15);\n",
              "      filter: drop-shadow(0px 1px 2px rgba(0, 0, 0, 0.3));\n",
              "      fill: #FFFFFF;\n",
              "    }\n",
              "  </style>\n",
              "\n",
              "    <script>\n",
              "      const buttonEl =\n",
              "        document.querySelector('#df-1cb16e38-9ac5-4701-8e61-68ee31c94b98 button.colab-df-convert');\n",
              "      buttonEl.style.display =\n",
              "        google.colab.kernel.accessAllowed ? 'block' : 'none';\n",
              "\n",
              "      async function convertToInteractive(key) {\n",
              "        const element = document.querySelector('#df-1cb16e38-9ac5-4701-8e61-68ee31c94b98');\n",
              "        const dataTable =\n",
              "          await google.colab.kernel.invokeFunction('convertToInteractive',\n",
              "                                                    [key], {});\n",
              "        if (!dataTable) return;\n",
              "\n",
              "        const docLinkHtml = 'Like what you see? Visit the ' +\n",
              "          '<a target=\"_blank\" href=https://colab.research.google.com/notebooks/data_table.ipynb>data table notebook</a>'\n",
              "          + ' to learn more about interactive tables.';\n",
              "        element.innerHTML = '';\n",
              "        dataTable['output_type'] = 'display_data';\n",
              "        await google.colab.output.renderOutput(dataTable, element);\n",
              "        const docLink = document.createElement('div');\n",
              "        docLink.innerHTML = docLinkHtml;\n",
              "        element.appendChild(docLink);\n",
              "      }\n",
              "    </script>\n",
              "  </div>\n",
              "\n",
              "\n",
              "<div id=\"df-39f516dc-ef73-4164-856e-0aab67b98662\">\n",
              "  <button class=\"colab-df-quickchart\" onclick=\"quickchart('df-39f516dc-ef73-4164-856e-0aab67b98662')\"\n",
              "            title=\"Suggest charts\"\n",
              "            style=\"display:none;\">\n",
              "\n",
              "<svg xmlns=\"http://www.w3.org/2000/svg\" height=\"24px\"viewBox=\"0 0 24 24\"\n",
              "     width=\"24px\">\n",
              "    <g>\n",
              "        <path d=\"M19 3H5c-1.1 0-2 .9-2 2v14c0 1.1.9 2 2 2h14c1.1 0 2-.9 2-2V5c0-1.1-.9-2-2-2zM9 17H7v-7h2v7zm4 0h-2V7h2v10zm4 0h-2v-4h2v4z\"/>\n",
              "    </g>\n",
              "</svg>\n",
              "  </button>\n",
              "\n",
              "<style>\n",
              "  .colab-df-quickchart {\n",
              "      --bg-color: #E8F0FE;\n",
              "      --fill-color: #1967D2;\n",
              "      --hover-bg-color: #E2EBFA;\n",
              "      --hover-fill-color: #174EA6;\n",
              "      --disabled-fill-color: #AAA;\n",
              "      --disabled-bg-color: #DDD;\n",
              "  }\n",
              "\n",
              "  [theme=dark] .colab-df-quickchart {\n",
              "      --bg-color: #3B4455;\n",
              "      --fill-color: #D2E3FC;\n",
              "      --hover-bg-color: #434B5C;\n",
              "      --hover-fill-color: #FFFFFF;\n",
              "      --disabled-bg-color: #3B4455;\n",
              "      --disabled-fill-color: #666;\n",
              "  }\n",
              "\n",
              "  .colab-df-quickchart {\n",
              "    background-color: var(--bg-color);\n",
              "    border: none;\n",
              "    border-radius: 50%;\n",
              "    cursor: pointer;\n",
              "    display: none;\n",
              "    fill: var(--fill-color);\n",
              "    height: 32px;\n",
              "    padding: 0;\n",
              "    width: 32px;\n",
              "  }\n",
              "\n",
              "  .colab-df-quickchart:hover {\n",
              "    background-color: var(--hover-bg-color);\n",
              "    box-shadow: 0 1px 2px rgba(60, 64, 67, 0.3), 0 1px 3px 1px rgba(60, 64, 67, 0.15);\n",
              "    fill: var(--button-hover-fill-color);\n",
              "  }\n",
              "\n",
              "  .colab-df-quickchart-complete:disabled,\n",
              "  .colab-df-quickchart-complete:disabled:hover {\n",
              "    background-color: var(--disabled-bg-color);\n",
              "    fill: var(--disabled-fill-color);\n",
              "    box-shadow: none;\n",
              "  }\n",
              "\n",
              "  .colab-df-spinner {\n",
              "    border: 2px solid var(--fill-color);\n",
              "    border-color: transparent;\n",
              "    border-bottom-color: var(--fill-color);\n",
              "    animation:\n",
              "      spin 1s steps(1) infinite;\n",
              "  }\n",
              "\n",
              "  @keyframes spin {\n",
              "    0% {\n",
              "      border-color: transparent;\n",
              "      border-bottom-color: var(--fill-color);\n",
              "      border-left-color: var(--fill-color);\n",
              "    }\n",
              "    20% {\n",
              "      border-color: transparent;\n",
              "      border-left-color: var(--fill-color);\n",
              "      border-top-color: var(--fill-color);\n",
              "    }\n",
              "    30% {\n",
              "      border-color: transparent;\n",
              "      border-left-color: var(--fill-color);\n",
              "      border-top-color: var(--fill-color);\n",
              "      border-right-color: var(--fill-color);\n",
              "    }\n",
              "    40% {\n",
              "      border-color: transparent;\n",
              "      border-right-color: var(--fill-color);\n",
              "      border-top-color: var(--fill-color);\n",
              "    }\n",
              "    60% {\n",
              "      border-color: transparent;\n",
              "      border-right-color: var(--fill-color);\n",
              "    }\n",
              "    80% {\n",
              "      border-color: transparent;\n",
              "      border-right-color: var(--fill-color);\n",
              "      border-bottom-color: var(--fill-color);\n",
              "    }\n",
              "    90% {\n",
              "      border-color: transparent;\n",
              "      border-bottom-color: var(--fill-color);\n",
              "    }\n",
              "  }\n",
              "</style>\n",
              "\n",
              "  <script>\n",
              "    async function quickchart(key) {\n",
              "      const quickchartButtonEl =\n",
              "        document.querySelector('#' + key + ' button');\n",
              "      quickchartButtonEl.disabled = true;  // To prevent multiple clicks.\n",
              "      quickchartButtonEl.classList.add('colab-df-spinner');\n",
              "      try {\n",
              "        const charts = await google.colab.kernel.invokeFunction(\n",
              "            'suggestCharts', [key], {});\n",
              "      } catch (error) {\n",
              "        console.error('Error during call to suggestCharts:', error);\n",
              "      }\n",
              "      quickchartButtonEl.classList.remove('colab-df-spinner');\n",
              "      quickchartButtonEl.classList.add('colab-df-quickchart-complete');\n",
              "    }\n",
              "    (() => {\n",
              "      let quickchartButtonEl =\n",
              "        document.querySelector('#df-39f516dc-ef73-4164-856e-0aab67b98662 button');\n",
              "      quickchartButtonEl.style.display =\n",
              "        google.colab.kernel.accessAllowed ? 'block' : 'none';\n",
              "    })();\n",
              "  </script>\n",
              "</div>\n",
              "\n",
              "  <div id=\"id_b2468bfb-7580-4b1a-96ad-01140cdb8928\">\n",
              "    <style>\n",
              "      .colab-df-generate {\n",
              "        background-color: #E8F0FE;\n",
              "        border: none;\n",
              "        border-radius: 50%;\n",
              "        cursor: pointer;\n",
              "        display: none;\n",
              "        fill: #1967D2;\n",
              "        height: 32px;\n",
              "        padding: 0 0 0 0;\n",
              "        width: 32px;\n",
              "      }\n",
              "\n",
              "      .colab-df-generate:hover {\n",
              "        background-color: #E2EBFA;\n",
              "        box-shadow: 0px 1px 2px rgba(60, 64, 67, 0.3), 0px 1px 3px 1px rgba(60, 64, 67, 0.15);\n",
              "        fill: #174EA6;\n",
              "      }\n",
              "\n",
              "      [theme=dark] .colab-df-generate {\n",
              "        background-color: #3B4455;\n",
              "        fill: #D2E3FC;\n",
              "      }\n",
              "\n",
              "      [theme=dark] .colab-df-generate:hover {\n",
              "        background-color: #434B5C;\n",
              "        box-shadow: 0px 1px 3px 1px rgba(0, 0, 0, 0.15);\n",
              "        filter: drop-shadow(0px 1px 2px rgba(0, 0, 0, 0.3));\n",
              "        fill: #FFFFFF;\n",
              "      }\n",
              "    </style>\n",
              "    <button class=\"colab-df-generate\" onclick=\"generateWithVariable('submission')\"\n",
              "            title=\"Generate code using this dataframe.\"\n",
              "            style=\"display:none;\">\n",
              "\n",
              "  <svg xmlns=\"http://www.w3.org/2000/svg\" height=\"24px\"viewBox=\"0 0 24 24\"\n",
              "       width=\"24px\">\n",
              "    <path d=\"M7,19H8.4L18.45,9,17,7.55,7,17.6ZM5,21V16.75L18.45,3.32a2,2,0,0,1,2.83,0l1.4,1.43a1.91,1.91,0,0,1,.58,1.4,1.91,1.91,0,0,1-.58,1.4L9.25,21ZM18.45,9,17,7.55Zm-12,3A5.31,5.31,0,0,0,4.9,8.1,5.31,5.31,0,0,0,1,6.5,5.31,5.31,0,0,0,4.9,4.9,5.31,5.31,0,0,0,6.5,1,5.31,5.31,0,0,0,8.1,4.9,5.31,5.31,0,0,0,12,6.5,5.46,5.46,0,0,0,6.5,12Z\"/>\n",
              "  </svg>\n",
              "    </button>\n",
              "    <script>\n",
              "      (() => {\n",
              "      const buttonEl =\n",
              "        document.querySelector('#id_b2468bfb-7580-4b1a-96ad-01140cdb8928 button.colab-df-generate');\n",
              "      buttonEl.style.display =\n",
              "        google.colab.kernel.accessAllowed ? 'block' : 'none';\n",
              "\n",
              "      buttonEl.onclick = () => {\n",
              "        google.colab.notebook.generateWithVariable('submission');\n",
              "      }\n",
              "      })();\n",
              "    </script>\n",
              "  </div>\n",
              "\n",
              "    </div>\n",
              "  </div>\n"
            ],
            "application/vnd.google.colaboratory.intrinsic+json": {
              "type": "dataframe",
              "variable_name": "submission",
              "summary": "{\n  \"name\": \"submission\",\n  \"rows\": 292,\n  \"fields\": [\n    {\n      \"column\": \"Id\",\n      \"properties\": {\n        \"dtype\": \"number\",\n        \"std\": 84,\n        \"min\": 0,\n        \"max\": 291,\n        \"num_unique_values\": 292,\n        \"samples\": [\n          84,\n          260,\n          45\n        ],\n        \"semantic_type\": \"\",\n        \"description\": \"\"\n      }\n    },\n    {\n      \"column\": \"SalePrice\",\n      \"properties\": {\n        \"dtype\": \"number\",\n        \"std\": 1750.8940807083147,\n        \"min\": 176189.01742500067,\n        \"max\": 182224.4169595316,\n        \"num_unique_values\": 292,\n        \"samples\": [\n          178732.20991852134,\n          181812.34485339373,\n          180238.97862989455\n        ],\n        \"semantic_type\": \"\",\n        \"description\": \"\"\n      }\n    }\n  ]\n}"
            }
          },
          "metadata": {},
          "execution_count": 18
        }
      ]
    },
    {
      "cell_type": "code",
      "source": [],
      "metadata": {
        "id": "euoIkjDKMxaD"
      },
      "execution_count": null,
      "outputs": []
    },
    {
      "cell_type": "code",
      "source": [],
      "metadata": {
        "id": "32Yf3JM9Mxca"
      },
      "execution_count": null,
      "outputs": []
    },
    {
      "cell_type": "code",
      "source": [],
      "metadata": {
        "id": "NId8TbUCMxe3"
      },
      "execution_count": null,
      "outputs": []
    },
    {
      "cell_type": "code",
      "source": [],
      "metadata": {
        "id": "eqTA2FTvMxhO"
      },
      "execution_count": null,
      "outputs": []
    }
  ]
}